{
 "cells": [
  {
   "cell_type": "code",
   "execution_count": 1,
   "id": "6a0ad5ce",
   "metadata": {},
   "outputs": [],
   "source": [
    "import numpy as np\n"
   ]
  },
  {
   "cell_type": "code",
   "execution_count": 2,
   "id": "d7d0574f",
   "metadata": {},
   "outputs": [],
   "source": [
    "from Hermes import Hermes\n",
    "myHermes = Hermes()\n",
    "myHermes.addFilter('cone_search')\n",
    "myHermes.addFilter('ra', '12:26:27.011') # SN 2021J\n",
    "myHermes.addFilter('dec','+31:13:20.55')\n",
    "myHermes.addFilter('radius', 10.0)"
   ]
  },
  {
   "cell_type": "code",
   "execution_count": 3,
   "id": "68db72e4",
   "metadata": {},
   "outputs": [
    {
     "data": {
      "text/plain": [
       "{'search_type': {'type': 'cone_search', 'radius': 10.0},\n",
       " 'ra/dec': ['12:26:27.011', '+31:13:20.55']}"
      ]
     },
     "execution_count": 3,
     "metadata": {},
     "output_type": "execute_result"
    }
   ],
   "source": [
    "myHermes.getFilters()"
   ]
  },
  {
   "cell_type": "code",
   "execution_count": 4,
   "id": "57210ec5",
   "metadata": {},
   "outputs": [
    {
     "name": "stdout",
     "output_type": "stream",
     "text": [
      "{'OAC': <Services.OAC.QueryOAC object at 0x7f57ad314670>, 'MAST': <Services.MAST.QueryMAST object at 0x7f57ad3147c0>, 'IRSA': <Services.IRSA.QueryIRSA object at 0x7f57ad3141f0>, 'SIMBAD': <Services.SIMBAD.QuerySIMBAD object at 0x7f57ad3140a0>}\n",
      "OAC\n",
      "Start query OAC\n",
      "MAST\n",
      "Start query MAST\n",
      "IRSA\n",
      "Start query IRSA\n",
      "SIMBAD\n",
      "Start query SIMBAD\n"
     ]
    }
   ],
   "source": [
    "my_query = myHermes.startQuery()"
   ]
  },
  {
   "cell_type": "code",
   "execution_count": 5,
   "id": "2885d8a3",
   "metadata": {},
   "outputs": [
    {
     "name": "stdout",
     "output_type": "stream",
     "text": [
      "4\n",
      "dict_keys(['OAC', 'MAST', 'IRSA', 'SIMBAD'])\n"
     ]
    }
   ],
   "source": [
    "print(len(my_query))\n",
    "print(my_query.keys())"
   ]
  },
  {
   "cell_type": "code",
   "execution_count": 6,
   "id": "72f63f5a",
   "metadata": {},
   "outputs": [
    {
     "name": "stdout",
     "output_type": "stream",
     "text": [
      "-------------------------------------------------------------------\n",
      "\n",
      " event    time  magnitude e_magnitude band instrument\n",
      "------- ------- --------- ----------- ---- ----------\n",
      "SN2021J 59228.5      12.5                            \n",
      "-------------------------------------------------------------------\n",
      "\n",
      "dataproduct_type calib_level obs_collection                         obs_id                        ...  objID    objID1        distance     \n",
      "---------------- ----------- -------------- ----------------------------------------------------- ... -------- -------- -------------------\n",
      "      timeseries           4           HLSP hlsp_qlp_tess_ffi_s0022-0000000082346904_tess_v01_llc ... 79715055 79715055    9.43124616452016\n",
      "      timeseries           4           HLSP hlsp_qlp_tess_ffi_s0022-0000000082346910_tess_v01_llc ... 79715155 79715155 0.42623555163908733\n",
      "      timeseries           4           HLSP hlsp_qlp_tess_ffi_s0022-0000000082346919_tess_v01_llc ... 79715320 79715320   8.421906385593786\n",
      "      timeseries           4           HLSP hlsp_qlp_tess_ffi_s0022-0000010000638013_tess_v01_llc ... 80010905 80010905 0.40071666744149154\n",
      "-------------------------------------------------------------------\n",
      "\n",
      "     obsmjd      mag_autocorr magerr_auto      oid            ra         dec     ... photcalflag   goodflag    pid      dist     angle   \n",
      "      days           mag          mag                      degrees     degrees   ... 0=No, 1=Yes 0=No, 1=Yes           arcsec     deg    \n",
      "---------------- ------------ ----------- -------------- ----------- ----------- ... ----------- ----------- -------- -------- ----------\n",
      " 56385.229587200        9.937       0.078 40572010002948 186.6125650  31.2230470 ...           1           1 15713250 2.400263   1.101742\n",
      " 56385.259657200        9.933       0.078 40572010002948 186.6125650  31.2230470 ...           1           1 15713492 2.400263   1.101742\n",
      " 56386.161167200        9.962       0.241 40572010002948 186.6125650  31.2230470 ...           1           1 15726813 2.400263   1.101742\n",
      " 56386.190967200        9.962       0.241 40572010002948 186.6125650  31.2230470 ...           1           1 15726876 2.400263   1.101742\n",
      " 56386.220557200        9.966       0.241 40572010002948 186.6125650  31.2230470 ...           1           1 15726965 2.400263   1.101742\n",
      " 56387.165837200        9.919       0.025 40572010002948 186.6125650  31.2230470 ...           1           1 15741643 2.400263   1.101742\n",
      " 56387.194257200        9.921       0.025 40572010002948 186.6125650  31.2230470 ...           1           1 15741666 2.400263   1.101742\n",
      " 56387.223747200        9.915       0.025 40572010002948 186.6125650  31.2230470 ...           1           1 15741689 2.400263   1.101742\n",
      " 56389.343207200        9.920       0.039 40572010002948 186.6125650  31.2230470 ...           1           1 15750994 2.400263   1.101742\n",
      "             ...          ...         ...            ...         ...         ... ...         ...         ...      ...      ...        ...\n",
      " 56789.284227200       12.743       0.025 40572015002354 186.6118270  31.2207230 ...           1           1 22219872 6.367016 200.462576\n",
      " 56782.305687200       12.769       0.073 40572015002354 186.6118270  31.2207230 ...           1           1 22237512 6.367016 200.462576\n",
      " 56787.287777200       12.770       0.024 40572015002354 186.6118270  31.2207230 ...           1           1 24530325 6.367016 200.462576\n",
      " 56787.321327200       12.900       0.024 40572015002354 186.6118270  31.2207230 ...           1           1 24530357 6.367016 200.462576\n",
      " 56404.213127200       12.733       0.022 40572015002354 186.6118270  31.2207230 ...           1           1 15882739 6.367016 200.462576\n",
      " 56404.242417200       12.774       0.022 40572015002354 186.6118270  31.2207230 ...           1           1 15882761 6.367016 200.462576\n",
      " 56738.504467200       12.779       0.033 40572015002354 186.6118270  31.2207230 ...           1           1 19641506 6.367016 200.462576\n",
      " 56805.180227200       12.903       0.148 40572015002354 186.6118270  31.2207230 ...           0           1 22025990 6.367016 200.462576\n",
      " 56805.211617200       12.628       0.148 40572015002354 186.6118270  31.2207230 ...           0           1 22026049 6.367016 200.462576\n",
      " 56386.161167200       12.678       0.241 40572015002354 186.6118270  31.2207230 ...           1           1 15726813 6.367016 200.462576\n",
      "Length = 143 rows\n",
      "-------------------------------------------------------------------\n",
      "\n",
      "   MAIN_ID         RA          DEC      RA_PREC DEC_PREC ... COO_ERR_ANGLE COO_QUAL COO_WAVELENGTH     COO_BIBCODE     SCRIPT_NUMBER_ID\n",
      "                \"h:m:s\"      \"d:m:s\"                     ...      deg                                                                  \n",
      "------------- ------------ ------------ ------- -------- ... ------------- -------- -------------- ------------------- ----------------\n",
      "     SN 2021J 12 26 27.030 +31 13 20.59       7        7 ...             0        D                2021ATel14300....1S                1\n",
      "[TSK2008] 149   12 26 27.0    +31 13 21       5        5 ...             0        D              O 2013AJ....146...86T                1\n",
      "     SN 1974G   12 26 27.1    +31 13 24       5        5 ...             0        D                2018MNRAS.481..566K                1\n",
      "    NGC  4414 12 26 27.089 +31 13 24.76       7        7 ...             0        C              I 2006AJ....131.1163S                1\n",
      "    [S96c] C6   12 26 27.1    +31 13 12       5        5 ...             0        D                                                   1\n"
     ]
    }
   ],
   "source": [
    "for query in my_query:\n",
    "    print('-------------------------------------------------------------------\\n')\n",
    "    print(my_query[query])"
   ]
  },
  {
   "cell_type": "code",
   "execution_count": 7,
   "id": "16c4b6fe",
   "metadata": {},
   "outputs": [
    {
     "data": {
      "application/vnd.jupyter.widget-view+json": {
       "model_id": "6538904173864593b7c092d544f8679f",
       "version_major": 2,
       "version_minor": 0
      },
      "text/plain": [
       "Box(children=(Aladin(fov=0.2, layout=Layout(width='50%'), options=['allow_full_zoomout', 'coo_frame', 'fov', '…"
      ]
     },
     "metadata": {},
     "output_type": "display_data"
    }
   ],
   "source": [
    "myHermes.generateVisualization()"
   ]
  },
  {
   "cell_type": "code",
   "execution_count": 12,
   "id": "277b8187",
   "metadata": {},
   "outputs": [],
   "source": []
  },
  {
   "cell_type": "code",
   "execution_count": null,
   "id": "7b56a02e",
   "metadata": {},
   "outputs": [],
   "source": []
  }
 ],
 "metadata": {
  "kernelspec": {
   "display_name": "Python 3 (ipykernel)",
   "language": "python",
   "name": "python3"
  },
  "language_info": {
   "codemirror_mode": {
    "name": "ipython",
    "version": 3
   },
   "file_extension": ".py",
   "mimetype": "text/x-python",
   "name": "python",
   "nbconvert_exporter": "python",
   "pygments_lexer": "ipython3",
   "version": "3.9.7"
  }
 },
 "nbformat": 4,
 "nbformat_minor": 5
}
